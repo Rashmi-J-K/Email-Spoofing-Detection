{
 "cells": [
  {
   "cell_type": "code",
   "execution_count": null,
   "metadata": {},
   "outputs": [],
   "source": []
  },
  {
   "cell_type": "code",
   "execution_count": 270,
   "metadata": {},
   "outputs": [],
   "source": [
    "import pandas as pd \n",
    "import numpy as np \n",
    "import matplotlib.pyplot as plt \n",
    "import seaborn as sns"
   ]
  },
  {
   "cell_type": "code",
   "execution_count": 271,
   "metadata": {},
   "outputs": [
    {
     "data": {
      "text/html": [
       "<div>\n",
       "<style scoped>\n",
       "    .dataframe tbody tr th:only-of-type {\n",
       "        vertical-align: middle;\n",
       "    }\n",
       "\n",
       "    .dataframe tbody tr th {\n",
       "        vertical-align: top;\n",
       "    }\n",
       "\n",
       "    .dataframe thead th {\n",
       "        text-align: right;\n",
       "    }\n",
       "</style>\n",
       "<table border=\"1\" class=\"dataframe\">\n",
       "  <thead>\n",
       "    <tr style=\"text-align: right;\">\n",
       "      <th></th>\n",
       "      <th>v1</th>\n",
       "      <th>v2</th>\n",
       "      <th>Unnamed: 2</th>\n",
       "      <th>Unnamed: 3</th>\n",
       "      <th>Unnamed: 4</th>\n",
       "    </tr>\n",
       "  </thead>\n",
       "  <tbody>\n",
       "    <tr>\n",
       "      <th>0</th>\n",
       "      <td>spam</td>\n",
       "      <td>SIX chances to win CASH! From 100 to 20,000 po...</td>\n",
       "      <td>NaN</td>\n",
       "      <td>NaN</td>\n",
       "      <td>NaN</td>\n",
       "    </tr>\n",
       "    <tr>\n",
       "      <th>1</th>\n",
       "      <td>spam</td>\n",
       "      <td>Congratulatons!!! You have won $10000 ,Walmart...</td>\n",
       "      <td>NaN</td>\n",
       "      <td>NaN</td>\n",
       "      <td>NaN</td>\n",
       "    </tr>\n",
       "    <tr>\n",
       "      <th>2</th>\n",
       "      <td>ham</td>\n",
       "      <td>BHAVYA has shared Residential House in Bajal J...</td>\n",
       "      <td>NaN</td>\n",
       "      <td>NaN</td>\n",
       "      <td>NaN</td>\n",
       "    </tr>\n",
       "    <tr>\n",
       "      <th>3</th>\n",
       "      <td>spam</td>\n",
       "      <td>Please check that no one has logged in to your...</td>\n",
       "      <td>NaN</td>\n",
       "      <td>NaN</td>\n",
       "      <td>NaN</td>\n",
       "    </tr>\n",
       "    <tr>\n",
       "      <th>4</th>\n",
       "      <td>ham</td>\n",
       "      <td>Are you preparing for interviews? Looking to i...</td>\n",
       "      <td>NaN</td>\n",
       "      <td>NaN</td>\n",
       "      <td>NaN</td>\n",
       "    </tr>\n",
       "    <tr>\n",
       "      <th>...</th>\n",
       "      <td>...</td>\n",
       "      <td>...</td>\n",
       "      <td>...</td>\n",
       "      <td>...</td>\n",
       "      <td>...</td>\n",
       "    </tr>\n",
       "    <tr>\n",
       "      <th>5250</th>\n",
       "      <td>ham</td>\n",
       "      <td>I didnt get anything da</td>\n",
       "      <td>NaN</td>\n",
       "      <td>NaN</td>\n",
       "      <td>NaN</td>\n",
       "    </tr>\n",
       "    <tr>\n",
       "      <th>5251</th>\n",
       "      <td>ham</td>\n",
       "      <td>Ok... Sweet dreams...</td>\n",
       "      <td>NaN</td>\n",
       "      <td>NaN</td>\n",
       "      <td>NaN</td>\n",
       "    </tr>\n",
       "    <tr>\n",
       "      <th>5252</th>\n",
       "      <td>ham</td>\n",
       "      <td>Well she's in for a big surprise!</td>\n",
       "      <td>NaN</td>\n",
       "      <td>NaN</td>\n",
       "      <td>NaN</td>\n",
       "    </tr>\n",
       "    <tr>\n",
       "      <th>5253</th>\n",
       "      <td>ham</td>\n",
       "      <td>As usual..iam fine, happy &amp;amp; doing well..:</td>\n",
       "      <td>NaN</td>\n",
       "      <td>NaN</td>\n",
       "      <td>NaN</td>\n",
       "    </tr>\n",
       "    <tr>\n",
       "      <th>5254</th>\n",
       "      <td>ham</td>\n",
       "      <td>1 in cbe. 2 in chennai.</td>\n",
       "      <td>NaN</td>\n",
       "      <td>NaN</td>\n",
       "      <td>NaN</td>\n",
       "    </tr>\n",
       "  </tbody>\n",
       "</table>\n",
       "<p>5255 rows × 5 columns</p>\n",
       "</div>"
      ],
      "text/plain": [
       "        v1                                                 v2 Unnamed: 2  \\\n",
       "0     spam  SIX chances to win CASH! From 100 to 20,000 po...        NaN   \n",
       "1     spam  Congratulatons!!! You have won $10000 ,Walmart...        NaN   \n",
       "2      ham  BHAVYA has shared Residential House in Bajal J...        NaN   \n",
       "3     spam  Please check that no one has logged in to your...        NaN   \n",
       "4      ham  Are you preparing for interviews? Looking to i...        NaN   \n",
       "...    ...                                                ...        ...   \n",
       "5250   ham                            I didnt get anything da        NaN   \n",
       "5251   ham                              Ok... Sweet dreams...        NaN   \n",
       "5252   ham                  Well she's in for a big surprise!        NaN   \n",
       "5253   ham      As usual..iam fine, happy &amp; doing well..:        NaN   \n",
       "5254   ham                            1 in cbe. 2 in chennai.        NaN   \n",
       "\n",
       "     Unnamed: 3 Unnamed: 4  \n",
       "0           NaN        NaN  \n",
       "1           NaN        NaN  \n",
       "2           NaN        NaN  \n",
       "3           NaN        NaN  \n",
       "4           NaN        NaN  \n",
       "...         ...        ...  \n",
       "5250        NaN        NaN  \n",
       "5251        NaN        NaN  \n",
       "5252        NaN        NaN  \n",
       "5253        NaN        NaN  \n",
       "5254        NaN        NaN  \n",
       "\n",
       "[5255 rows x 5 columns]"
      ]
     },
     "execution_count": 271,
     "metadata": {},
     "output_type": "execute_result"
    }
   ],
   "source": [
    "df = pd.read_csv('spams.csv' , encoding = 'latin-1')\n",
    "df\n"
   ]
  },
  {
   "cell_type": "code",
   "execution_count": 272,
   "metadata": {},
   "outputs": [
    {
     "data": {
      "text/plain": [
       "(5255, 5)"
      ]
     },
     "execution_count": 272,
     "metadata": {},
     "output_type": "execute_result"
    }
   ],
   "source": [
    "df.shape\n"
   ]
  },
  {
   "cell_type": "code",
   "execution_count": 273,
   "metadata": {},
   "outputs": [
    {
     "data": {
      "text/html": [
       "<div>\n",
       "<style scoped>\n",
       "    .dataframe tbody tr th:only-of-type {\n",
       "        vertical-align: middle;\n",
       "    }\n",
       "\n",
       "    .dataframe tbody tr th {\n",
       "        vertical-align: top;\n",
       "    }\n",
       "\n",
       "    .dataframe thead th {\n",
       "        text-align: right;\n",
       "    }\n",
       "</style>\n",
       "<table border=\"1\" class=\"dataframe\">\n",
       "  <thead>\n",
       "    <tr style=\"text-align: right;\">\n",
       "      <th></th>\n",
       "      <th>v1</th>\n",
       "      <th>v2</th>\n",
       "    </tr>\n",
       "  </thead>\n",
       "  <tbody>\n",
       "    <tr>\n",
       "      <th>0</th>\n",
       "      <td>spam</td>\n",
       "      <td>SIX chances to win CASH! From 100 to 20,000 po...</td>\n",
       "    </tr>\n",
       "    <tr>\n",
       "      <th>1</th>\n",
       "      <td>spam</td>\n",
       "      <td>Congratulatons!!! You have won $10000 ,Walmart...</td>\n",
       "    </tr>\n",
       "    <tr>\n",
       "      <th>2</th>\n",
       "      <td>ham</td>\n",
       "      <td>BHAVYA has shared Residential House in Bajal J...</td>\n",
       "    </tr>\n",
       "    <tr>\n",
       "      <th>3</th>\n",
       "      <td>spam</td>\n",
       "      <td>Please check that no one has logged in to your...</td>\n",
       "    </tr>\n",
       "    <tr>\n",
       "      <th>4</th>\n",
       "      <td>ham</td>\n",
       "      <td>Are you preparing for interviews? Looking to i...</td>\n",
       "    </tr>\n",
       "    <tr>\n",
       "      <th>...</th>\n",
       "      <td>...</td>\n",
       "      <td>...</td>\n",
       "    </tr>\n",
       "    <tr>\n",
       "      <th>5250</th>\n",
       "      <td>ham</td>\n",
       "      <td>I didnt get anything da</td>\n",
       "    </tr>\n",
       "    <tr>\n",
       "      <th>5251</th>\n",
       "      <td>ham</td>\n",
       "      <td>Ok... Sweet dreams...</td>\n",
       "    </tr>\n",
       "    <tr>\n",
       "      <th>5252</th>\n",
       "      <td>ham</td>\n",
       "      <td>Well she's in for a big surprise!</td>\n",
       "    </tr>\n",
       "    <tr>\n",
       "      <th>5253</th>\n",
       "      <td>ham</td>\n",
       "      <td>As usual..iam fine, happy &amp;amp; doing well..:</td>\n",
       "    </tr>\n",
       "    <tr>\n",
       "      <th>5254</th>\n",
       "      <td>ham</td>\n",
       "      <td>1 in cbe. 2 in chennai.</td>\n",
       "    </tr>\n",
       "  </tbody>\n",
       "</table>\n",
       "<p>5255 rows × 2 columns</p>\n",
       "</div>"
      ],
      "text/plain": [
       "        v1                                                 v2\n",
       "0     spam  SIX chances to win CASH! From 100 to 20,000 po...\n",
       "1     spam  Congratulatons!!! You have won $10000 ,Walmart...\n",
       "2      ham  BHAVYA has shared Residential House in Bajal J...\n",
       "3     spam  Please check that no one has logged in to your...\n",
       "4      ham  Are you preparing for interviews? Looking to i...\n",
       "...    ...                                                ...\n",
       "5250   ham                            I didnt get anything da\n",
       "5251   ham                              Ok... Sweet dreams...\n",
       "5252   ham                  Well she's in for a big surprise!\n",
       "5253   ham      As usual..iam fine, happy &amp; doing well..:\n",
       "5254   ham                            1 in cbe. 2 in chennai.\n",
       "\n",
       "[5255 rows x 2 columns]"
      ]
     },
     "execution_count": 273,
     "metadata": {},
     "output_type": "execute_result"
    }
   ],
   "source": [
    "df.drop( columns = ['Unnamed: 2','Unnamed: 3','Unnamed: 4'], inplace = True)\n",
    "df"
   ]
  },
  {
   "cell_type": "code",
   "execution_count": 285,
   "metadata": {},
   "outputs": [
    {
     "data": {
      "text/html": [
       "<div>\n",
       "<style scoped>\n",
       "    .dataframe tbody tr th:only-of-type {\n",
       "        vertical-align: middle;\n",
       "    }\n",
       "\n",
       "    .dataframe tbody tr th {\n",
       "        vertical-align: top;\n",
       "    }\n",
       "\n",
       "    .dataframe thead th {\n",
       "        text-align: right;\n",
       "    }\n",
       "</style>\n",
       "<table border=\"1\" class=\"dataframe\">\n",
       "  <thead>\n",
       "    <tr style=\"text-align: right;\">\n",
       "      <th></th>\n",
       "      <th>target</th>\n",
       "      <th>text</th>\n",
       "    </tr>\n",
       "  </thead>\n",
       "  <tbody>\n",
       "    <tr>\n",
       "      <th>0</th>\n",
       "      <td>1</td>\n",
       "      <td>SIX chances to win CASH! From 100 to 20,000 po...</td>\n",
       "    </tr>\n",
       "    <tr>\n",
       "      <th>1</th>\n",
       "      <td>1</td>\n",
       "      <td>Congratulatons!!! You have won $10000 ,Walmart...</td>\n",
       "    </tr>\n",
       "    <tr>\n",
       "      <th>2</th>\n",
       "      <td>0</td>\n",
       "      <td>BHAVYA has shared Residential House in Bajal J...</td>\n",
       "    </tr>\n",
       "    <tr>\n",
       "      <th>3</th>\n",
       "      <td>1</td>\n",
       "      <td>Please check that no one has logged in to your...</td>\n",
       "    </tr>\n",
       "    <tr>\n",
       "      <th>4</th>\n",
       "      <td>0</td>\n",
       "      <td>Are you preparing for interviews? Looking to i...</td>\n",
       "    </tr>\n",
       "    <tr>\n",
       "      <th>...</th>\n",
       "      <td>...</td>\n",
       "      <td>...</td>\n",
       "    </tr>\n",
       "    <tr>\n",
       "      <th>5250</th>\n",
       "      <td>0</td>\n",
       "      <td>I didnt get anything da</td>\n",
       "    </tr>\n",
       "    <tr>\n",
       "      <th>5251</th>\n",
       "      <td>0</td>\n",
       "      <td>Ok... Sweet dreams...</td>\n",
       "    </tr>\n",
       "    <tr>\n",
       "      <th>5252</th>\n",
       "      <td>0</td>\n",
       "      <td>Well she's in for a big surprise!</td>\n",
       "    </tr>\n",
       "    <tr>\n",
       "      <th>5253</th>\n",
       "      <td>0</td>\n",
       "      <td>As usual..iam fine, happy &amp;amp; doing well..:</td>\n",
       "    </tr>\n",
       "    <tr>\n",
       "      <th>5254</th>\n",
       "      <td>0</td>\n",
       "      <td>1 in cbe. 2 in chennai.</td>\n",
       "    </tr>\n",
       "  </tbody>\n",
       "</table>\n",
       "<p>4888 rows × 2 columns</p>\n",
       "</div>"
      ],
      "text/plain": [
       "      target                                               text\n",
       "0          1  SIX chances to win CASH! From 100 to 20,000 po...\n",
       "1          1  Congratulatons!!! You have won $10000 ,Walmart...\n",
       "2          0  BHAVYA has shared Residential House in Bajal J...\n",
       "3          1  Please check that no one has logged in to your...\n",
       "4          0  Are you preparing for interviews? Looking to i...\n",
       "...      ...                                                ...\n",
       "5250       0                            I didnt get anything da\n",
       "5251       0                              Ok... Sweet dreams...\n",
       "5252       0                  Well she's in for a big surprise!\n",
       "5253       0      As usual..iam fine, happy &amp; doing well..:\n",
       "5254       0                            1 in cbe. 2 in chennai.\n",
       "\n",
       "[4888 rows x 2 columns]"
      ]
     },
     "execution_count": 285,
     "metadata": {},
     "output_type": "execute_result"
    }
   ],
   "source": [
    "df.rename(columns = {'v1' :'target','v2':'text'}, inplace = True)\n",
    "df"
   ]
  },
  {
   "cell_type": "code",
   "execution_count": 286,
   "metadata": {},
   "outputs": [],
   "source": [
    "from sklearn.preprocessing import LabelEncoder\n",
    "encoder = LabelEncoder()"
   ]
  },
  {
   "cell_type": "code",
   "execution_count": 287,
   "metadata": {},
   "outputs": [
    {
     "data": {
      "text/html": [
       "<div>\n",
       "<style scoped>\n",
       "    .dataframe tbody tr th:only-of-type {\n",
       "        vertical-align: middle;\n",
       "    }\n",
       "\n",
       "    .dataframe tbody tr th {\n",
       "        vertical-align: top;\n",
       "    }\n",
       "\n",
       "    .dataframe thead th {\n",
       "        text-align: right;\n",
       "    }\n",
       "</style>\n",
       "<table border=\"1\" class=\"dataframe\">\n",
       "  <thead>\n",
       "    <tr style=\"text-align: right;\">\n",
       "      <th></th>\n",
       "      <th>target</th>\n",
       "      <th>text</th>\n",
       "    </tr>\n",
       "  </thead>\n",
       "  <tbody>\n",
       "    <tr>\n",
       "      <th>0</th>\n",
       "      <td>1</td>\n",
       "      <td>SIX chances to win CASH! From 100 to 20,000 po...</td>\n",
       "    </tr>\n",
       "    <tr>\n",
       "      <th>1</th>\n",
       "      <td>1</td>\n",
       "      <td>Congratulatons!!! You have won $10000 ,Walmart...</td>\n",
       "    </tr>\n",
       "    <tr>\n",
       "      <th>2</th>\n",
       "      <td>0</td>\n",
       "      <td>BHAVYA has shared Residential House in Bajal J...</td>\n",
       "    </tr>\n",
       "    <tr>\n",
       "      <th>3</th>\n",
       "      <td>1</td>\n",
       "      <td>Please check that no one has logged in to your...</td>\n",
       "    </tr>\n",
       "    <tr>\n",
       "      <th>4</th>\n",
       "      <td>0</td>\n",
       "      <td>Are you preparing for interviews? Looking to i...</td>\n",
       "    </tr>\n",
       "    <tr>\n",
       "      <th>...</th>\n",
       "      <td>...</td>\n",
       "      <td>...</td>\n",
       "    </tr>\n",
       "    <tr>\n",
       "      <th>5250</th>\n",
       "      <td>0</td>\n",
       "      <td>I didnt get anything da</td>\n",
       "    </tr>\n",
       "    <tr>\n",
       "      <th>5251</th>\n",
       "      <td>0</td>\n",
       "      <td>Ok... Sweet dreams...</td>\n",
       "    </tr>\n",
       "    <tr>\n",
       "      <th>5252</th>\n",
       "      <td>0</td>\n",
       "      <td>Well she's in for a big surprise!</td>\n",
       "    </tr>\n",
       "    <tr>\n",
       "      <th>5253</th>\n",
       "      <td>0</td>\n",
       "      <td>As usual..iam fine, happy &amp;amp; doing well..:</td>\n",
       "    </tr>\n",
       "    <tr>\n",
       "      <th>5254</th>\n",
       "      <td>0</td>\n",
       "      <td>1 in cbe. 2 in chennai.</td>\n",
       "    </tr>\n",
       "  </tbody>\n",
       "</table>\n",
       "<p>4888 rows × 2 columns</p>\n",
       "</div>"
      ],
      "text/plain": [
       "      target                                               text\n",
       "0          1  SIX chances to win CASH! From 100 to 20,000 po...\n",
       "1          1  Congratulatons!!! You have won $10000 ,Walmart...\n",
       "2          0  BHAVYA has shared Residential House in Bajal J...\n",
       "3          1  Please check that no one has logged in to your...\n",
       "4          0  Are you preparing for interviews? Looking to i...\n",
       "...      ...                                                ...\n",
       "5250       0                            I didnt get anything da\n",
       "5251       0                              Ok... Sweet dreams...\n",
       "5252       0                  Well she's in for a big surprise!\n",
       "5253       0      As usual..iam fine, happy &amp; doing well..:\n",
       "5254       0                            1 in cbe. 2 in chennai.\n",
       "\n",
       "[4888 rows x 2 columns]"
      ]
     },
     "execution_count": 287,
     "metadata": {},
     "output_type": "execute_result"
    }
   ],
   "source": [
    "\n",
    "df['target']=encoder.fit_transform(df['target'])\n",
    "df"
   ]
  },
  {
   "cell_type": "code",
   "execution_count": 288,
   "metadata": {},
   "outputs": [
    {
     "data": {
      "text/plain": [
       "target    0\n",
       "text      0\n",
       "dtype: int64"
      ]
     },
     "execution_count": 288,
     "metadata": {},
     "output_type": "execute_result"
    }
   ],
   "source": [
    "df.isna().sum()"
   ]
  },
  {
   "cell_type": "code",
   "execution_count": 289,
   "metadata": {},
   "outputs": [
    {
     "data": {
      "text/plain": [
       "0"
      ]
     },
     "execution_count": 289,
     "metadata": {},
     "output_type": "execute_result"
    }
   ],
   "source": [
    "\n",
    "df.duplicated().sum()"
   ]
  },
  {
   "cell_type": "code",
   "execution_count": 290,
   "metadata": {},
   "outputs": [],
   "source": [
    "df.drop_duplicates(keep = 'first' , inplace = True)"
   ]
  },
  {
   "cell_type": "code",
   "execution_count": 291,
   "metadata": {},
   "outputs": [
    {
     "data": {
      "text/plain": [
       "0"
      ]
     },
     "execution_count": 291,
     "metadata": {},
     "output_type": "execute_result"
    }
   ],
   "source": [
    "\n",
    "df.duplicated().sum()"
   ]
  },
  {
   "cell_type": "code",
   "execution_count": 292,
   "metadata": {},
   "outputs": [
    {
     "data": {
      "text/plain": [
       "target\n",
       "0    4247\n",
       "1     641\n",
       "Name: count, dtype: int64"
      ]
     },
     "execution_count": 292,
     "metadata": {},
     "output_type": "execute_result"
    }
   ],
   "source": [
    "df['target'].value_counts()"
   ]
  },
  {
   "cell_type": "code",
   "execution_count": 293,
   "metadata": {},
   "outputs": [
    {
     "name": "stderr",
     "output_type": "stream",
     "text": [
      "[nltk_data] Downloading package punkt to\n",
      "[nltk_data]     C:\\Users\\ASUS\\AppData\\Roaming\\nltk_data...\n",
      "[nltk_data]   Package punkt is already up-to-date!\n"
     ]
    },
    {
     "data": {
      "text/plain": [
       "True"
      ]
     },
     "execution_count": 293,
     "metadata": {},
     "output_type": "execute_result"
    }
   ],
   "source": [
    "\n",
    "import nltk\n",
    "nltk.download('punkt')"
   ]
  },
  {
   "cell_type": "code",
   "execution_count": 294,
   "metadata": {},
   "outputs": [
    {
     "data": {
      "text/html": [
       "<div>\n",
       "<style scoped>\n",
       "    .dataframe tbody tr th:only-of-type {\n",
       "        vertical-align: middle;\n",
       "    }\n",
       "\n",
       "    .dataframe tbody tr th {\n",
       "        vertical-align: top;\n",
       "    }\n",
       "\n",
       "    .dataframe thead th {\n",
       "        text-align: right;\n",
       "    }\n",
       "</style>\n",
       "<table border=\"1\" class=\"dataframe\">\n",
       "  <thead>\n",
       "    <tr style=\"text-align: right;\">\n",
       "      <th></th>\n",
       "      <th>target</th>\n",
       "      <th>text</th>\n",
       "      <th>num_character</th>\n",
       "    </tr>\n",
       "  </thead>\n",
       "  <tbody>\n",
       "    <tr>\n",
       "      <th>0</th>\n",
       "      <td>1</td>\n",
       "      <td>SIX chances to win CASH! From 100 to 20,000 po...</td>\n",
       "      <td>136</td>\n",
       "    </tr>\n",
       "    <tr>\n",
       "      <th>1</th>\n",
       "      <td>1</td>\n",
       "      <td>Congratulatons!!! You have won $10000 ,Walmart...</td>\n",
       "      <td>81</td>\n",
       "    </tr>\n",
       "    <tr>\n",
       "      <th>2</th>\n",
       "      <td>0</td>\n",
       "      <td>BHAVYA has shared Residential House in Bajal J...</td>\n",
       "      <td>110</td>\n",
       "    </tr>\n",
       "    <tr>\n",
       "      <th>3</th>\n",
       "      <td>1</td>\n",
       "      <td>Please check that no one has logged in to your...</td>\n",
       "      <td>149</td>\n",
       "    </tr>\n",
       "    <tr>\n",
       "      <th>4</th>\n",
       "      <td>0</td>\n",
       "      <td>Are you preparing for interviews? Looking to i...</td>\n",
       "      <td>222</td>\n",
       "    </tr>\n",
       "    <tr>\n",
       "      <th>...</th>\n",
       "      <td>...</td>\n",
       "      <td>...</td>\n",
       "      <td>...</td>\n",
       "    </tr>\n",
       "    <tr>\n",
       "      <th>5250</th>\n",
       "      <td>0</td>\n",
       "      <td>I didnt get anything da</td>\n",
       "      <td>23</td>\n",
       "    </tr>\n",
       "    <tr>\n",
       "      <th>5251</th>\n",
       "      <td>0</td>\n",
       "      <td>Ok... Sweet dreams...</td>\n",
       "      <td>21</td>\n",
       "    </tr>\n",
       "    <tr>\n",
       "      <th>5252</th>\n",
       "      <td>0</td>\n",
       "      <td>Well she's in for a big surprise!</td>\n",
       "      <td>33</td>\n",
       "    </tr>\n",
       "    <tr>\n",
       "      <th>5253</th>\n",
       "      <td>0</td>\n",
       "      <td>As usual..iam fine, happy &amp;amp; doing well..:</td>\n",
       "      <td>45</td>\n",
       "    </tr>\n",
       "    <tr>\n",
       "      <th>5254</th>\n",
       "      <td>0</td>\n",
       "      <td>1 in cbe. 2 in chennai.</td>\n",
       "      <td>23</td>\n",
       "    </tr>\n",
       "  </tbody>\n",
       "</table>\n",
       "<p>4888 rows × 3 columns</p>\n",
       "</div>"
      ],
      "text/plain": [
       "      target                                               text  num_character\n",
       "0          1  SIX chances to win CASH! From 100 to 20,000 po...            136\n",
       "1          1  Congratulatons!!! You have won $10000 ,Walmart...             81\n",
       "2          0  BHAVYA has shared Residential House in Bajal J...            110\n",
       "3          1  Please check that no one has logged in to your...            149\n",
       "4          0  Are you preparing for interviews? Looking to i...            222\n",
       "...      ...                                                ...            ...\n",
       "5250       0                            I didnt get anything da             23\n",
       "5251       0                              Ok... Sweet dreams...             21\n",
       "5252       0                  Well she's in for a big surprise!             33\n",
       "5253       0      As usual..iam fine, happy &amp; doing well..:             45\n",
       "5254       0                            1 in cbe. 2 in chennai.             23\n",
       "\n",
       "[4888 rows x 3 columns]"
      ]
     },
     "execution_count": 294,
     "metadata": {},
     "output_type": "execute_result"
    }
   ],
   "source": [
    "df['num_character']=df['text'].apply(len)\n",
    "df"
   ]
  },
  {
   "cell_type": "code",
   "execution_count": 295,
   "metadata": {},
   "outputs": [
    {
     "data": {
      "text/html": [
       "<div>\n",
       "<style scoped>\n",
       "    .dataframe tbody tr th:only-of-type {\n",
       "        vertical-align: middle;\n",
       "    }\n",
       "\n",
       "    .dataframe tbody tr th {\n",
       "        vertical-align: top;\n",
       "    }\n",
       "\n",
       "    .dataframe thead th {\n",
       "        text-align: right;\n",
       "    }\n",
       "</style>\n",
       "<table border=\"1\" class=\"dataframe\">\n",
       "  <thead>\n",
       "    <tr style=\"text-align: right;\">\n",
       "      <th></th>\n",
       "      <th>target</th>\n",
       "      <th>text</th>\n",
       "      <th>num_character</th>\n",
       "      <th>num_word</th>\n",
       "      <th>num_sentence</th>\n",
       "    </tr>\n",
       "  </thead>\n",
       "  <tbody>\n",
       "    <tr>\n",
       "      <th>0</th>\n",
       "      <td>1</td>\n",
       "      <td>SIX chances to win CASH! From 100 to 20,000 po...</td>\n",
       "      <td>136</td>\n",
       "      <td>31</td>\n",
       "      <td>3</td>\n",
       "    </tr>\n",
       "    <tr>\n",
       "      <th>1</th>\n",
       "      <td>1</td>\n",
       "      <td>Congratulatons!!! You have won $10000 ,Walmart...</td>\n",
       "      <td>81</td>\n",
       "      <td>21</td>\n",
       "      <td>4</td>\n",
       "    </tr>\n",
       "    <tr>\n",
       "      <th>2</th>\n",
       "      <td>0</td>\n",
       "      <td>BHAVYA has shared Residential House in Bajal J...</td>\n",
       "      <td>110</td>\n",
       "      <td>17</td>\n",
       "      <td>2</td>\n",
       "    </tr>\n",
       "    <tr>\n",
       "      <th>3</th>\n",
       "      <td>1</td>\n",
       "      <td>Please check that no one has logged in to your...</td>\n",
       "      <td>149</td>\n",
       "      <td>29</td>\n",
       "      <td>1</td>\n",
       "    </tr>\n",
       "    <tr>\n",
       "      <th>4</th>\n",
       "      <td>0</td>\n",
       "      <td>Are you preparing for interviews? Looking to i...</td>\n",
       "      <td>222</td>\n",
       "      <td>42</td>\n",
       "      <td>5</td>\n",
       "    </tr>\n",
       "    <tr>\n",
       "      <th>...</th>\n",
       "      <td>...</td>\n",
       "      <td>...</td>\n",
       "      <td>...</td>\n",
       "      <td>...</td>\n",
       "      <td>...</td>\n",
       "    </tr>\n",
       "    <tr>\n",
       "      <th>5250</th>\n",
       "      <td>0</td>\n",
       "      <td>I didnt get anything da</td>\n",
       "      <td>23</td>\n",
       "      <td>5</td>\n",
       "      <td>1</td>\n",
       "    </tr>\n",
       "    <tr>\n",
       "      <th>5251</th>\n",
       "      <td>0</td>\n",
       "      <td>Ok... Sweet dreams...</td>\n",
       "      <td>21</td>\n",
       "      <td>5</td>\n",
       "      <td>1</td>\n",
       "    </tr>\n",
       "    <tr>\n",
       "      <th>5252</th>\n",
       "      <td>0</td>\n",
       "      <td>Well she's in for a big surprise!</td>\n",
       "      <td>33</td>\n",
       "      <td>9</td>\n",
       "      <td>1</td>\n",
       "    </tr>\n",
       "    <tr>\n",
       "      <th>5253</th>\n",
       "      <td>0</td>\n",
       "      <td>As usual..iam fine, happy &amp;amp; doing well..:</td>\n",
       "      <td>45</td>\n",
       "      <td>14</td>\n",
       "      <td>1</td>\n",
       "    </tr>\n",
       "    <tr>\n",
       "      <th>5254</th>\n",
       "      <td>0</td>\n",
       "      <td>1 in cbe. 2 in chennai.</td>\n",
       "      <td>23</td>\n",
       "      <td>8</td>\n",
       "      <td>2</td>\n",
       "    </tr>\n",
       "  </tbody>\n",
       "</table>\n",
       "<p>4888 rows × 5 columns</p>\n",
       "</div>"
      ],
      "text/plain": [
       "      target                                               text  \\\n",
       "0          1  SIX chances to win CASH! From 100 to 20,000 po...   \n",
       "1          1  Congratulatons!!! You have won $10000 ,Walmart...   \n",
       "2          0  BHAVYA has shared Residential House in Bajal J...   \n",
       "3          1  Please check that no one has logged in to your...   \n",
       "4          0  Are you preparing for interviews? Looking to i...   \n",
       "...      ...                                                ...   \n",
       "5250       0                            I didnt get anything da   \n",
       "5251       0                              Ok... Sweet dreams...   \n",
       "5252       0                  Well she's in for a big surprise!   \n",
       "5253       0      As usual..iam fine, happy &amp; doing well..:   \n",
       "5254       0                            1 in cbe. 2 in chennai.   \n",
       "\n",
       "      num_character  num_word  num_sentence  \n",
       "0               136        31             3  \n",
       "1                81        21             4  \n",
       "2               110        17             2  \n",
       "3               149        29             1  \n",
       "4               222        42             5  \n",
       "...             ...       ...           ...  \n",
       "5250             23         5             1  \n",
       "5251             21         5             1  \n",
       "5252             33         9             1  \n",
       "5253             45        14             1  \n",
       "5254             23         8             2  \n",
       "\n",
       "[4888 rows x 5 columns]"
      ]
     },
     "execution_count": 295,
     "metadata": {},
     "output_type": "execute_result"
    }
   ],
   "source": [
    "df['num_word']=df['text'].apply( lambda x: nltk.word_tokenize(x)).apply(len)\n",
    "\n",
    "df['num_sentence']=df['text'].apply( lambda x: nltk.sent_tokenize(x)).apply(len)\n",
    "df"
   ]
  },
  {
   "cell_type": "code",
   "execution_count": 296,
   "metadata": {},
   "outputs": [
    {
     "data": {
      "text/plain": [
       "(4888, 5)"
      ]
     },
     "execution_count": 296,
     "metadata": {},
     "output_type": "execute_result"
    }
   ],
   "source": [
    "df.shape"
   ]
  },
  {
   "cell_type": "code",
   "execution_count": 297,
   "metadata": {},
   "outputs": [],
   "source": [
    "import string \n",
    "from nltk.stem.porter import PorterStemmer\n",
    "ps = PorterStemmer()\n",
    "\n",
    "def transform_text(text):\n",
    "    text = text.lower()\n",
    "    \n",
    "    text= nltk.word_tokenize(text)\n",
    "    y = []\n",
    "    for i in text:\n",
    "        if i.isalnum():\n",
    "            y.append(i)\n",
    "            \n",
    "    \n",
    "    text = y[:]\n",
    "    y.clear()\n",
    "    \n",
    "    for i in text:\n",
    "        if i not in stopwords.words('english') and  i not in string.punctuation:\n",
    "            y.append(i)\n",
    "            \n",
    "    text = y[:]       \n",
    "    y.clear()\n",
    "    \n",
    "    for i in text:\n",
    "        y.append(ps.stem(i))\n",
    "        \n",
    "    \n",
    "    return \" \".join(y)"
   ]
  },
  {
   "cell_type": "code",
   "execution_count": 298,
   "metadata": {},
   "outputs": [
    {
     "name": "stderr",
     "output_type": "stream",
     "text": [
      "[nltk_data] Downloading package stopwords to\n",
      "[nltk_data]     C:\\Users\\ASUS\\AppData\\Roaming\\nltk_data...\n",
      "[nltk_data]   Package stopwords is already up-to-date!\n"
     ]
    },
    {
     "data": {
      "text/plain": [
       "True"
      ]
     },
     "execution_count": 298,
     "metadata": {},
     "output_type": "execute_result"
    }
   ],
   "source": [
    "from nltk.corpus import stopwords \n",
    "nltk.download('stopwords')"
   ]
  },
  {
   "cell_type": "code",
   "execution_count": 299,
   "metadata": {},
   "outputs": [
    {
     "data": {
      "text/plain": [
       "'danc'"
      ]
     },
     "execution_count": 299,
     "metadata": {},
     "output_type": "execute_result"
    }
   ],
   "source": [
    "\n",
    "ps.stem('danceing')"
   ]
  },
  {
   "cell_type": "code",
   "execution_count": 300,
   "metadata": {},
   "outputs": [],
   "source": [
    "\n",
    "df['transform_text']=df['text'].apply(transform_text)"
   ]
  },
  {
   "cell_type": "code",
   "execution_count": 301,
   "metadata": {},
   "outputs": [
    {
     "data": {
      "text/html": [
       "<div>\n",
       "<style scoped>\n",
       "    .dataframe tbody tr th:only-of-type {\n",
       "        vertical-align: middle;\n",
       "    }\n",
       "\n",
       "    .dataframe tbody tr th {\n",
       "        vertical-align: top;\n",
       "    }\n",
       "\n",
       "    .dataframe thead th {\n",
       "        text-align: right;\n",
       "    }\n",
       "</style>\n",
       "<table border=\"1\" class=\"dataframe\">\n",
       "  <thead>\n",
       "    <tr style=\"text-align: right;\">\n",
       "      <th></th>\n",
       "      <th>target</th>\n",
       "      <th>text</th>\n",
       "      <th>num_character</th>\n",
       "      <th>num_word</th>\n",
       "      <th>num_sentence</th>\n",
       "      <th>transform_text</th>\n",
       "    </tr>\n",
       "  </thead>\n",
       "  <tbody>\n",
       "    <tr>\n",
       "      <th>0</th>\n",
       "      <td>1</td>\n",
       "      <td>SIX chances to win CASH! From 100 to 20,000 po...</td>\n",
       "      <td>136</td>\n",
       "      <td>31</td>\n",
       "      <td>3</td>\n",
       "      <td>six chanc win cash 100 pound txt csh11 send co...</td>\n",
       "    </tr>\n",
       "    <tr>\n",
       "      <th>1</th>\n",
       "      <td>1</td>\n",
       "      <td>Congratulatons!!! You have won $10000 ,Walmart...</td>\n",
       "      <td>81</td>\n",
       "      <td>21</td>\n",
       "      <td>4</td>\n",
       "      <td>congratulaton 10000 walmart gift card tap link...</td>\n",
       "    </tr>\n",
       "    <tr>\n",
       "      <th>2</th>\n",
       "      <td>0</td>\n",
       "      <td>BHAVYA has shared Residential House in Bajal J...</td>\n",
       "      <td>110</td>\n",
       "      <td>17</td>\n",
       "      <td>2</td>\n",
       "      <td>bhavya share residenti hous bajal bhk resident...</td>\n",
       "    </tr>\n",
       "    <tr>\n",
       "      <th>3</th>\n",
       "      <td>1</td>\n",
       "      <td>Please check that no one has logged in to your...</td>\n",
       "      <td>149</td>\n",
       "      <td>29</td>\n",
       "      <td>1</td>\n",
       "      <td>pleas check one log account without permiss he...</td>\n",
       "    </tr>\n",
       "    <tr>\n",
       "      <th>4</th>\n",
       "      <td>0</td>\n",
       "      <td>Are you preparing for interviews? Looking to i...</td>\n",
       "      <td>222</td>\n",
       "      <td>42</td>\n",
       "      <td>5</td>\n",
       "      <td>prepar interview look improv code skill want w...</td>\n",
       "    </tr>\n",
       "    <tr>\n",
       "      <th>...</th>\n",
       "      <td>...</td>\n",
       "      <td>...</td>\n",
       "      <td>...</td>\n",
       "      <td>...</td>\n",
       "      <td>...</td>\n",
       "      <td>...</td>\n",
       "    </tr>\n",
       "    <tr>\n",
       "      <th>5250</th>\n",
       "      <td>0</td>\n",
       "      <td>I didnt get anything da</td>\n",
       "      <td>23</td>\n",
       "      <td>5</td>\n",
       "      <td>1</td>\n",
       "      <td>didnt get anyth da</td>\n",
       "    </tr>\n",
       "    <tr>\n",
       "      <th>5251</th>\n",
       "      <td>0</td>\n",
       "      <td>Ok... Sweet dreams...</td>\n",
       "      <td>21</td>\n",
       "      <td>5</td>\n",
       "      <td>1</td>\n",
       "      <td>ok sweet dream</td>\n",
       "    </tr>\n",
       "    <tr>\n",
       "      <th>5252</th>\n",
       "      <td>0</td>\n",
       "      <td>Well she's in for a big surprise!</td>\n",
       "      <td>33</td>\n",
       "      <td>9</td>\n",
       "      <td>1</td>\n",
       "      <td>well big surpris</td>\n",
       "    </tr>\n",
       "    <tr>\n",
       "      <th>5253</th>\n",
       "      <td>0</td>\n",
       "      <td>As usual..iam fine, happy &amp;amp; doing well..:</td>\n",
       "      <td>45</td>\n",
       "      <td>14</td>\n",
       "      <td>1</td>\n",
       "      <td>usual iam fine happi amp well</td>\n",
       "    </tr>\n",
       "    <tr>\n",
       "      <th>5254</th>\n",
       "      <td>0</td>\n",
       "      <td>1 in cbe. 2 in chennai.</td>\n",
       "      <td>23</td>\n",
       "      <td>8</td>\n",
       "      <td>2</td>\n",
       "      <td>1 cbe 2 chennai</td>\n",
       "    </tr>\n",
       "  </tbody>\n",
       "</table>\n",
       "<p>4888 rows × 6 columns</p>\n",
       "</div>"
      ],
      "text/plain": [
       "      target                                               text  \\\n",
       "0          1  SIX chances to win CASH! From 100 to 20,000 po...   \n",
       "1          1  Congratulatons!!! You have won $10000 ,Walmart...   \n",
       "2          0  BHAVYA has shared Residential House in Bajal J...   \n",
       "3          1  Please check that no one has logged in to your...   \n",
       "4          0  Are you preparing for interviews? Looking to i...   \n",
       "...      ...                                                ...   \n",
       "5250       0                            I didnt get anything da   \n",
       "5251       0                              Ok... Sweet dreams...   \n",
       "5252       0                  Well she's in for a big surprise!   \n",
       "5253       0      As usual..iam fine, happy &amp; doing well..:   \n",
       "5254       0                            1 in cbe. 2 in chennai.   \n",
       "\n",
       "      num_character  num_word  num_sentence  \\\n",
       "0               136        31             3   \n",
       "1                81        21             4   \n",
       "2               110        17             2   \n",
       "3               149        29             1   \n",
       "4               222        42             5   \n",
       "...             ...       ...           ...   \n",
       "5250             23         5             1   \n",
       "5251             21         5             1   \n",
       "5252             33         9             1   \n",
       "5253             45        14             1   \n",
       "5254             23         8             2   \n",
       "\n",
       "                                         transform_text  \n",
       "0     six chanc win cash 100 pound txt csh11 send co...  \n",
       "1     congratulaton 10000 walmart gift card tap link...  \n",
       "2     bhavya share residenti hous bajal bhk resident...  \n",
       "3     pleas check one log account without permiss he...  \n",
       "4     prepar interview look improv code skill want w...  \n",
       "...                                                 ...  \n",
       "5250                                 didnt get anyth da  \n",
       "5251                                     ok sweet dream  \n",
       "5252                                   well big surpris  \n",
       "5253                      usual iam fine happi amp well  \n",
       "5254                                    1 cbe 2 chennai  \n",
       "\n",
       "[4888 rows x 6 columns]"
      ]
     },
     "execution_count": 301,
     "metadata": {},
     "output_type": "execute_result"
    }
   ],
   "source": [
    "df"
   ]
  },
  {
   "cell_type": "code",
   "execution_count": null,
   "metadata": {},
   "outputs": [],
   "source": []
  },
  {
   "cell_type": "code",
   "execution_count": 302,
   "metadata": {},
   "outputs": [],
   "source": [
    "\n",
    "from sklearn.feature_extraction.text import CountVectorizer , TfidfVectorizer\n",
    "cv = CountVectorizer()\n",
    "tfidf = TfidfVectorizer()"
   ]
  },
  {
   "cell_type": "code",
   "execution_count": 303,
   "metadata": {},
   "outputs": [],
   "source": [
    "\n",
    "X = tfidf.fit_transform(df['transform_text']).toarray()"
   ]
  },
  {
   "cell_type": "code",
   "execution_count": 304,
   "metadata": {},
   "outputs": [
    {
     "data": {
      "text/plain": [
       "(4888, 6497)"
      ]
     },
     "execution_count": 304,
     "metadata": {},
     "output_type": "execute_result"
    }
   ],
   "source": [
    "\n",
    "X.shape"
   ]
  },
  {
   "cell_type": "code",
   "execution_count": 305,
   "metadata": {},
   "outputs": [],
   "source": [
    "\n",
    "y = df['target'].values"
   ]
  },
  {
   "cell_type": "code",
   "execution_count": 306,
   "metadata": {},
   "outputs": [
    {
     "name": "stdout",
     "output_type": "stream",
     "text": [
      "0.9683026584867076\n",
      "[[844   3]\n",
      " [ 28 103]]\n",
      "0.9716981132075472\n"
     ]
    }
   ],
   "source": [
    "\n",
    "from sklearn.model_selection import train_test_split\n",
    "X_train, X_test , y_train , y_test = train_test_split(X,y , test_size = 0.2 , random_state = 2 )\n",
    "\n",
    "from sklearn.naive_bayes import BernoulliNB\n",
    "from sklearn.metrics import accuracy_score ,confusion_matrix, precision_score \n",
    "\n",
    "bnb = BernoulliNB()\n",
    "\n",
    "bnb.fit(X_train, y_train)\n",
    "\n",
    "y_pred3 = bnb.predict(X_test)\n",
    "print(accuracy_score(y_test, y_pred3))\n",
    "print(confusion_matrix(y_test, y_pred3))\n",
    "print(precision_score(y_test, y_pred3))\n",
    "\n",
    "\n"
   ]
  },
  {
   "cell_type": "code",
   "execution_count": 269,
   "metadata": {},
   "outputs": [],
   "source": [
    "\n",
    "import pickle\n",
    "pickle.dump(tfidf,open('vectorizer.pkl','wb'))\n",
    "pickle.dump(bnb,open('model.pkl','wb'))"
   ]
  },
  {
   "cell_type": "code",
   "execution_count": null,
   "metadata": {},
   "outputs": [],
   "source": []
  }
 ],
 "metadata": {
  "kernelspec": {
   "display_name": "Python 3",
   "language": "python",
   "name": "python3"
  },
  "language_info": {
   "codemirror_mode": {
    "name": "ipython",
    "version": 3
   },
   "file_extension": ".py",
   "mimetype": "text/x-python",
   "name": "python",
   "nbconvert_exporter": "python",
   "pygments_lexer": "ipython3",
   "version": "3.11.3"
  }
 },
 "nbformat": 4,
 "nbformat_minor": 2
}
